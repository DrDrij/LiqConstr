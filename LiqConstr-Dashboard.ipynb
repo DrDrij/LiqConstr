{
 "cells": [
  {
   "cell_type": "markdown",
   "metadata": {},
   "source": [
    "# Liquidity Constraints and Precautionary Saving\n",
    "\n",
    "This notebook generates the figures for the paper\n",
    "[Liquidity Constraints and Precautionary Saving](https://econ.jhu.edu/people/ccarroll/papers/LiqConstr)\n",
    "by Carroll, Holm, and Kimball."
   ]
  },
  {
   "cell_type": "code",
   "execution_count": 1,
   "metadata": {
    "code_folding": [],
    "lines_to_next_cell": 0
   },
   "outputs": [],
   "source": [
    "# Some setup stuff\n",
    "import Dashboard.dashboard_widget as liqConstr\n",
    "# The warnings package allows us to ignore some harmless but alarming warning messages\n",
    "from ipywidgets import interactive\n",
    "import warnings\n",
    "warnings.filterwarnings(\"ignore\")"
   ]
  },
  {
   "cell_type": "markdown",
   "metadata": {},
   "source": [
    "## Counterclockwise Concavification\n",
    "\n",
    "The Figure illustrates two examples of counterclockwise concavifications: the introduction of a constraint and the\n",
    "introduction of a risk. In both cases, we start from the situation with no risk or constraints (solid line).\n",
    "The introduction of a constraint is a counterclockwise concavification around a kink point $w^{\\#}$.\n",
    "Below $w^{\\#}$, consumption is lower and the MPC is greater.\n",
    "The introduction of a risk also generates a counterclockwise concavification of the original consumption function,\n",
    "but this time around $\\infty$. For all $w < \\infty$, consumption is lower, the MPC is higher,\n",
    "and the consumption function is strictly more concave."
   ]
  },
  {
   "cell_type": "code",
   "execution_count": 2,
   "metadata": {
    "code_folding": [],
    "lines_to_end_of_cell_marker": 2
   },
   "outputs": [
    {
     "data": {
      "application/vnd.jupyter.widget-view+json": {
       "model_id": "1f7e8f3b963b41e5bcd7af211287fbd6",
       "version_major": 2,
       "version_minor": 0
      },
      "text/plain": [
       "interactive(children=(FloatSlider(value=-1.0, description='a̲', max=0.0, min=-1.7, readout_format='.3f', step=…"
      ]
     },
     "metadata": {},
     "output_type": "display_data"
    }
   ],
   "source": [
    "interactive(liqConstr.make_concavification_figure,\n",
    "           in_BoroCnstArt=liqConstr.BoroCnstArt_widget[0],\n",
    "           in_UnempProb=liqConstr.UnempProb_widget)"
   ]
  },
  {
   "cell_type": "markdown",
   "metadata": {},
   "source": [
    "**Notes:** The solid line shows the linear consumption function in the case with no constraints and no risks.\n",
    "The two dashed line show the consumption function when we introduce a constraint and a risk, respectively.\n",
    "The introduction of a constraint is a counterclockwise concavification of the solid consumption function around\n",
    "$w^{\\#}$, while the introduction of a risk is a counterclockwise concavification around $\\infty$."
   ]
  },
  {
   "cell_type": "markdown",
   "metadata": {},
   "source": [
    "## How a current constraint can hide a future kink\n",
    "\n",
    "The original $\\mathcal{T}$ contains only a single constraint, at the end of period $t+1$, inducing a kink point at\n",
    "$\\omega_{t,1}$ in the consumption rule $c_{t,1}$. The expanded set of constraints, $\\hat{\\mathcal{T}}$, adds one\n",
    "constraint at period $t+2$. $\\hat{\\mathcal{T}}$ induces two kink points in the updated consumption rule $\\hat{c}_{t,2}$,\n",
    "at $\\hat{\\omega}_{t,1}$ and $\\hat{\\omega}_{t,2}$.  It is true that imposition of the new constraint causes consumption to\n",
    "be lower than before at every level of wealth below $\\hat{\\omega}_{t,1}$.  However, this does not imply higher prudence\n",
    "of the value function at every $w <\\hat{\\omega}_{t,1}$.  In particular, note that the original consumption function is\n",
    "strictly concave at $w = \\omega_{t,1}$, while the new consumption function is linear at $\\omega_{t,1}$, so prudence can\n",
    "be greater before than after imposition of the new constraint at this particular level of wealth.\n",
    "\n",
    "The intuition is simple: At levels of initial wealth below $\\hat{\\omega}_{t,1}$, the consumer had been planning to end\n",
    "period $t+2$ with negative wealth. With the new constraint, the old plan of ending up with negative wealth is no longer\n",
    "feasible and the consumer will save more for any given level of current wealth below $\\hat{\\omega}_{t,1}$, including\n",
    "$\\omega_{t,1}$. But the reason $\\omega_{t,1}$ was a kink point in the initial situation was that it was the level of\n",
    "wealth where consumption would have been equal to wealth in period $t+1$. Now, because of the extra savings induced by\n",
    "the constraint in $t+2$, the larger savings induced by wealth $\\omega_{t,1}$ implies that the period $t+1$ constraint\n",
    "will no longer bind for a consumer who begins period $t$ with wealth $\\omega_{t,1}$. In other words, at wealth\n",
    "$\\omega_{t,1}$ the extra savings induced by the new constraint moves the original constraint and prevents it from being\n",
    "relevant any more at the original $\\omega_{t,1}$.\n",
    "\n",
    "Notice, however, that all constraints that existed in $\\mathcal{T}$ will remain relevant at *some* level of\n",
    "wealth under $\\hat{\\mathcal{T}}$ even after the new constraint is imposed - they just induce kink points at different\n",
    "levels of wealth than before, e.g. the first constraint causes a kink at $\\hat{\\omega}_{t,2}$ rather than at $\\omega_{t,1}$."
   ]
  },
  {
   "cell_type": "code",
   "execution_count": 3,
   "metadata": {
    "code_folding": []
   },
   "outputs": [
    {
     "data": {
      "application/vnd.jupyter.widget-view+json": {
       "model_id": "204736d22dd743a797731dfbfe5e8e58",
       "version_major": 2,
       "version_minor": 0
      },
      "text/plain": [
       "interactive(children=(FloatSlider(value=0.02, description='a̲', max=0.09, min=-0.01, readout_format='.3f', ste…"
      ]
     },
     "metadata": {},
     "output_type": "display_data"
    }
   ],
   "source": [
    "interactive(liqConstr.make_future_kink,\n",
    "           in_BoroCnstArt=liqConstr.BoroCnstArt_widget[1])"
   ]
  },
  {
   "cell_type": "markdown",
   "metadata": {},
   "source": [
    "**Notes:** $c_{t,1}$ is the original consumption function with one constraint that induces a kink point at $\\omega_{t,1}$.\n",
    "$\\hat{c}_{t,2}$ is the modified consumption function in where we have introduced one new constraint.\n",
    "The two constraints affect $\\hat{c}_{t,2}$ through two kink points: $\\hat{\\omega}_{t,1}$ and $\\hat{\\omega}_{t,2}$.\n",
    "Since we introduced the new constraint at a later point in time than the current existing constraint,\n",
    "the future constraint affects the position of the kink induced by the current constraint and the modified consumption\n",
    "function $\\hat{c}_{t,2}$ is not a counterclockwise concavification of ${c}_{t,1}$."
   ]
  },
  {
   "cell_type": "markdown",
   "metadata": {},
   "source": [
    "\n",
    "## Consumption function with and without a constraint and a risk\n",
    "\n",
    "To illustrate the result of Theorem 2 in the paper, The figure shows an\n",
    "example of optimal consumption rules in period $t$ under different combinations of an immediate risk (realized at the\n",
    "beginning of period $t+1$) and a future constraint (applying at the end of period $t+1$).\n",
    "The thinner loci reflect behavior of consumers who face the future constraint, and the dashed loci reflect behavior of\n",
    "consumers who face the immediate risk. For levels of wealth above $\\omega_{t,1}$ where the future constraint stops\n",
    "impinging on current behavior for perfect foresight consumers, behavior of the constrained and unconstrained perfect\n",
    "foresight consumers is the same. Similarly, $\\tilde{c}_{t,1}(w_{t}) = \\tilde{c}_{t,0}(w_{t})$ for levels of wealth above\n",
    "${\\bar{\\omega}}_{t,1}$ beyond which the probability of the future constraint binding is zero. For both constrained and\n",
    "unconstrained consumers, the introduction of the risk reduces the level of consumption (the dashed loci are below their\n",
    "solid counterparts). The significance of Theorem 2 in the paper in this context is that for levels of\n",
    "wealth below ${\\bar{\\omega}}_{t,1}$, the vertical distance between the solid and the dashed loci is greater for the\n",
    "constrained (thin line) than for the unconstrained (thick line) consumers, because of the interaction between the\n",
    "liquidity constraint and the precautionary motive."
   ]
  },
  {
   "cell_type": "code",
   "execution_count": 4,
   "metadata": {
    "code_folding": []
   },
   "outputs": [
    {
     "data": {
      "application/vnd.jupyter.widget-view+json": {
       "model_id": "8fad6d36ebc24bceaae9f31c7e075910",
       "version_major": 2,
       "version_minor": 0
      },
      "text/plain": [
       "interactive(children=(FloatSlider(value=-6.0, description='a̲', max=-5.0, min=-7.0, readout_format='.3f', step…"
      ]
     },
     "metadata": {},
     "output_type": "display_data"
    }
   ],
   "source": [
    "interactive(liqConstr.make_cons_func,\n",
    "           in_BoroCnstArt=liqConstr.BoroCnstArt_widget[2],\n",
    "            in_TranShkStd=liqConstr.TranShkStd_widget)\n"
   ]
  },
  {
   "cell_type": "markdown",
   "metadata": {},
   "source": [
    "**Notes:** $c_{t,0}$ is the consumption function with no constraint and no risk, $\\tilde{c}_{t,0}$ is the consumption\n",
    "function with no constraint and a risk that is realized at the beginning of period $t+1$, $c_{t,1}$ is the consumption\n",
    "function with one constraint in period $t+1$ and no risk, and $\\tilde{c}_{t,1}$ is the consumption function with one\n",
    "constraint in period $t+1$ and a risk that is realized at the beginning of period $t+1$. The figure illustrates that\n",
    "the vertical distance between $c_{t,1}$ and $\\tilde{c}_{t,1}$ is always greater than the vertical distance between\n",
    "$c_{t,0}$ and $\\tilde{c}_{t,0}$ for $w < \\bar{\\omega}_{t,1}$."
   ]
  }
 ],
 "metadata": {
  "jupytext": {
   "cell_metadata_json": true,
   "formats": "ipynb,py:light",
   "notebook_metadata_filter": "all"
  },
  "kernelspec": {
   "display_name": "Python 3",
   "language": "python",
   "name": "python3"
  },
  "language_info": {
   "codemirror_mode": {
    "name": "ipython",
    "version": 3
   },
   "file_extension": ".py",
   "mimetype": "text/x-python",
   "name": "python",
   "nbconvert_exporter": "python",
   "pygments_lexer": "ipython3",
   "version": "3.6.9"
  },
  "toc": {
   "base_numbering": 1,
   "nav_menu": {},
   "number_sections": true,
   "sideBar": true,
   "skip_h1_title": false,
   "title_cell": "Table of Contents",
   "title_sidebar": "Contents",
   "toc_cell": false,
   "toc_position": {},
   "toc_section_display": true,
   "toc_window_display": false
  },
  "varInspector": {
   "cols": {
    "lenName": 16,
    "lenType": 16,
    "lenVar": 40
   },
   "kernels_config": {
    "python": {
     "delete_cmd_postfix": "",
     "delete_cmd_prefix": "del ",
     "library": "var_list.py",
     "varRefreshCmd": "print(var_dic_list())"
    },
    "r": {
     "delete_cmd_postfix": ") ",
     "delete_cmd_prefix": "rm(",
     "library": "var_list.r",
     "varRefreshCmd": "cat(var_dic_list()) "
    }
   },
   "types_to_exclude": [
    "module",
    "function",
    "builtin_function_or_method",
    "instance",
    "_Feature"
   ],
   "window_display": false
  }
 },
 "nbformat": 4,
 "nbformat_minor": 4
}
